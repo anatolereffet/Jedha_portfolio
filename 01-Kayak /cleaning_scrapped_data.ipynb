{
 "cells": [
  {
   "cell_type": "code",
   "execution_count": 1,
   "id": "9e4b29ec",
   "metadata": {},
   "outputs": [],
   "source": [
    "import json \n",
    "import pandas as pd\n",
    "import os"
   ]
  },
  {
   "cell_type": "code",
   "execution_count": 27,
   "id": "6a6b6d0f",
   "metadata": {},
   "outputs": [
    {
     "data": {
      "text/plain": [
       "Index(['name', 'url', 'address', 'image_url', 'score', 'description'], dtype='object')"
      ]
     },
     "execution_count": 27,
     "metadata": {},
     "output_type": "execute_result"
    }
   ],
   "source": [
    "booking_df.columns"
   ]
  },
  {
   "cell_type": "code",
   "execution_count": 84,
   "id": "63de5e24",
   "metadata": {},
   "outputs": [],
   "source": [
    "booking_json = \"./bookingscrap/bookingscraptest.json\""
   ]
  },
  {
   "cell_type": "code",
   "execution_count": 85,
   "id": "54ae5912",
   "metadata": {},
   "outputs": [],
   "source": [
    "booking_json = json.load(open(hotels_file))"
   ]
  },
  {
   "cell_type": "code",
   "execution_count": 86,
   "id": "7bb36a8b",
   "metadata": {},
   "outputs": [],
   "source": [
    "booking_df = pd.json_normalize(booking_json)"
   ]
  },
  {
   "cell_type": "code",
   "execution_count": 87,
   "id": "be8ae9b3",
   "metadata": {},
   "outputs": [
    {
     "data": {
      "text/plain": [
       "Bayeux                          25\n",
       "Mont Saint Michel               25\n",
       "Besancon                        25\n",
       "Aix en Provence                 25\n",
       "Biarritz                        25\n",
       "Toulouse                        25\n",
       "Paris                           25\n",
       "Lyon                            25\n",
       "Saintes Maries de la mer        25\n",
       "Annecy                          25\n",
       "Lille                           25\n",
       "Marseille                       25\n",
       "Collioure                       25\n",
       "Grenoble                        25\n",
       "Aigues Mortes                   25\n",
       "Avignon                         25\n",
       "Bayonne                         25\n",
       "Strasbourg                      25\n",
       "St Malo                         25\n",
       "Uzes                            25\n",
       "Le Havre                        25\n",
       "Rouen                           25\n",
       "Carcassonne                     25\n",
       "Nimes                           25\n",
       "Dijon                           25\n",
       "Chateau du Haut Koenigsbourg    25\n",
       "Bormes les Mimosas              25\n",
       "Amiens                          25\n",
       "Montauban                       25\n",
       "La Rochelle                     25\n",
       "Cassis                          25\n",
       "Eguisheim                       25\n",
       "Colmar                          25\n",
       "Name: address, dtype: int64"
      ]
     },
     "execution_count": 87,
     "metadata": {},
     "output_type": "execute_result"
    }
   ],
   "source": [
    "booking_df['address'].value_counts()"
   ]
  },
  {
   "cell_type": "code",
   "execution_count": 71,
   "id": "b4d22fc2",
   "metadata": {},
   "outputs": [
    {
     "data": {
      "text/plain": [
       "Index(['name', 'url', 'address', 'image_url', 'score', 'description'], dtype='object')"
      ]
     },
     "execution_count": 71,
     "metadata": {},
     "output_type": "execute_result"
    }
   ],
   "source": [
    "booking_df.columns"
   ]
  },
  {
   "cell_type": "code",
   "execution_count": 76,
   "id": "04dc66d5",
   "metadata": {},
   "outputs": [],
   "source": [
    "#We've cleaned the scrapped data directly in the jsonfile re-assigning cities with closest ones."
   ]
  },
  {
   "cell_type": "code",
   "execution_count": 60,
   "id": "53d315a7",
   "metadata": {},
   "outputs": [],
   "source": [
    "#booking_df.to_csv('booking_list.csv')"
   ]
  }
 ],
 "metadata": {
  "kernelspec": {
   "display_name": "Python 3 (ipykernel)",
   "language": "python",
   "name": "python3"
  },
  "language_info": {
   "codemirror_mode": {
    "name": "ipython",
    "version": 3
   },
   "file_extension": ".py",
   "mimetype": "text/x-python",
   "name": "python",
   "nbconvert_exporter": "python",
   "pygments_lexer": "ipython3",
   "version": "3.8.8"
  }
 },
 "nbformat": 4,
 "nbformat_minor": 5
}
