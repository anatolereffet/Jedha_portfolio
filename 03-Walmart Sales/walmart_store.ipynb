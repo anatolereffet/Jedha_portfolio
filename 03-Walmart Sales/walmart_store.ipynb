{
 "cells": [
  {
   "cell_type": "markdown",
   "metadata": {},
   "source": [
    "# Library imports"
   ]
  },
  {
   "cell_type": "code",
   "execution_count": 216,
   "metadata": {},
   "outputs": [],
   "source": [
    "#usual imports\n",
    "import pandas as pd\n",
    "import numpy as np\n",
    "import seaborn as sns\n",
    "import matplotlib.pyplot as plt\n",
    "\n",
    "#Outliers \n",
    "from scipy import stats"
   ]
  },
  {
   "cell_type": "code",
   "execution_count": 223,
   "metadata": {},
   "outputs": [],
   "source": [
    "data = pd.read_csv('data/raw/Walmart_Store_sales.csv')"
   ]
  },
  {
   "cell_type": "code",
   "execution_count": 224,
   "metadata": {},
   "outputs": [
    {
     "data": {
      "text/html": [
       "<div>\n",
       "<style scoped>\n",
       "    .dataframe tbody tr th:only-of-type {\n",
       "        vertical-align: middle;\n",
       "    }\n",
       "\n",
       "    .dataframe tbody tr th {\n",
       "        vertical-align: top;\n",
       "    }\n",
       "\n",
       "    .dataframe thead th {\n",
       "        text-align: right;\n",
       "    }\n",
       "</style>\n",
       "<table border=\"1\" class=\"dataframe\">\n",
       "  <thead>\n",
       "    <tr style=\"text-align: right;\">\n",
       "      <th></th>\n",
       "      <th>Store</th>\n",
       "      <th>Date</th>\n",
       "      <th>Weekly_Sales</th>\n",
       "      <th>Holiday_Flag</th>\n",
       "      <th>Temperature</th>\n",
       "      <th>Fuel_Price</th>\n",
       "      <th>CPI</th>\n",
       "      <th>Unemployment</th>\n",
       "    </tr>\n",
       "  </thead>\n",
       "  <tbody>\n",
       "    <tr>\n",
       "      <th>0</th>\n",
       "      <td>6.0</td>\n",
       "      <td>18-02-2011</td>\n",
       "      <td>1572117.54</td>\n",
       "      <td>NaN</td>\n",
       "      <td>59.61</td>\n",
       "      <td>3.045</td>\n",
       "      <td>214.777523</td>\n",
       "      <td>6.858</td>\n",
       "    </tr>\n",
       "    <tr>\n",
       "      <th>1</th>\n",
       "      <td>13.0</td>\n",
       "      <td>25-03-2011</td>\n",
       "      <td>1807545.43</td>\n",
       "      <td>0.0</td>\n",
       "      <td>42.38</td>\n",
       "      <td>3.435</td>\n",
       "      <td>128.616064</td>\n",
       "      <td>7.470</td>\n",
       "    </tr>\n",
       "    <tr>\n",
       "      <th>2</th>\n",
       "      <td>17.0</td>\n",
       "      <td>27-07-2012</td>\n",
       "      <td>NaN</td>\n",
       "      <td>0.0</td>\n",
       "      <td>NaN</td>\n",
       "      <td>NaN</td>\n",
       "      <td>130.719581</td>\n",
       "      <td>5.936</td>\n",
       "    </tr>\n",
       "    <tr>\n",
       "      <th>3</th>\n",
       "      <td>11.0</td>\n",
       "      <td>NaN</td>\n",
       "      <td>1244390.03</td>\n",
       "      <td>0.0</td>\n",
       "      <td>84.57</td>\n",
       "      <td>NaN</td>\n",
       "      <td>214.556497</td>\n",
       "      <td>7.346</td>\n",
       "    </tr>\n",
       "    <tr>\n",
       "      <th>4</th>\n",
       "      <td>6.0</td>\n",
       "      <td>28-05-2010</td>\n",
       "      <td>1644470.66</td>\n",
       "      <td>0.0</td>\n",
       "      <td>78.89</td>\n",
       "      <td>2.759</td>\n",
       "      <td>212.412888</td>\n",
       "      <td>7.092</td>\n",
       "    </tr>\n",
       "  </tbody>\n",
       "</table>\n",
       "</div>"
      ],
      "text/plain": [
       "   Store        Date  Weekly_Sales  Holiday_Flag  Temperature  Fuel_Price  \\\n",
       "0    6.0  18-02-2011    1572117.54           NaN        59.61       3.045   \n",
       "1   13.0  25-03-2011    1807545.43           0.0        42.38       3.435   \n",
       "2   17.0  27-07-2012           NaN           0.0          NaN         NaN   \n",
       "3   11.0         NaN    1244390.03           0.0        84.57         NaN   \n",
       "4    6.0  28-05-2010    1644470.66           0.0        78.89       2.759   \n",
       "\n",
       "          CPI  Unemployment  \n",
       "0  214.777523         6.858  \n",
       "1  128.616064         7.470  \n",
       "2  130.719581         5.936  \n",
       "3  214.556497         7.346  \n",
       "4  212.412888         7.092  "
      ]
     },
     "execution_count": 224,
     "metadata": {},
     "output_type": "execute_result"
    }
   ],
   "source": [
    "data.head()"
   ]
  },
  {
   "cell_type": "code",
   "execution_count": 225,
   "metadata": {},
   "outputs": [
    {
     "name": "stdout",
     "output_type": "stream",
     "text": [
      "There is 150 rows and 8 columns in this dataset\n",
      "Columns in this dataset ['Store', 'Date', 'Weekly_Sales', 'Holiday_Flag', 'Temperature', 'Fuel_Price', 'CPI', 'Unemployment']\n",
      "Overall missing values: \n",
      "Store            0.000000\n",
      "Date            12.000000\n",
      "Weekly_Sales     9.333333\n",
      "Holiday_Flag     8.000000\n",
      "Temperature     12.000000\n",
      "Fuel_Price       9.333333\n",
      "CPI              8.000000\n",
      "Unemployment    10.000000\n",
      "dtype: float64\n"
     ]
    }
   ],
   "source": [
    "print(f'There is {data.shape[0]} rows and {data.shape[1]} columns in this dataset')\n",
    "print(f'Columns in this dataset {list(data.columns)}')\n",
    "print(f'Overall missing values: \\n{100*data.isnull().sum()/data.shape[0]}')"
   ]
  },
  {
   "cell_type": "code",
   "execution_count": 226,
   "metadata": {},
   "outputs": [
    {
     "data": {
      "text/plain": [
       "Store           float64\n",
       "Date             object\n",
       "Weekly_Sales    float64\n",
       "Holiday_Flag    float64\n",
       "Temperature     float64\n",
       "Fuel_Price      float64\n",
       "CPI             float64\n",
       "Unemployment    float64\n",
       "dtype: object"
      ]
     },
     "execution_count": 226,
     "metadata": {},
     "output_type": "execute_result"
    }
   ],
   "source": [
    "data.dtypes"
   ]
  },
  {
   "cell_type": "code",
   "execution_count": 227,
   "metadata": {},
   "outputs": [
    {
     "data": {
      "text/plain": [
       "3.0     15\n",
       "1.0     11\n",
       "18.0    10\n",
       "13.0     9\n",
       "5.0      9\n",
       "14.0     9\n",
       "19.0     9\n",
       "17.0     8\n",
       "8.0      8\n",
       "2.0      8\n",
       "7.0      8\n",
       "20.0     7\n",
       "4.0      7\n",
       "6.0      7\n",
       "10.0     5\n",
       "12.0     5\n",
       "16.0     4\n",
       "9.0      4\n",
       "15.0     4\n",
       "11.0     3\n",
       "Name: Store, dtype: int64"
      ]
     },
     "execution_count": 227,
     "metadata": {},
     "output_type": "execute_result"
    }
   ],
   "source": [
    "data['Store'].value_counts()"
   ]
  },
  {
   "cell_type": "markdown",
   "metadata": {},
   "source": [
    "There is no missing values on the stores, we can convert it to an integer"
   ]
  },
  {
   "cell_type": "code",
   "execution_count": 228,
   "metadata": {},
   "outputs": [
    {
     "data": {
      "text/plain": [
       "Store           float64\n",
       "Date             object\n",
       "Weekly_Sales    float64\n",
       "Holiday_Flag    float64\n",
       "Temperature     float64\n",
       "Fuel_Price      float64\n",
       "CPI             float64\n",
       "Unemployment    float64\n",
       "dtype: object"
      ]
     },
     "execution_count": 228,
     "metadata": {},
     "output_type": "execute_result"
    }
   ],
   "source": [
    "data.dtypes"
   ]
  },
  {
   "cell_type": "code",
   "execution_count": 166,
   "metadata": {},
   "outputs": [
    {
     "data": {
      "text/html": [
       "<div>\n",
       "<style scoped>\n",
       "    .dataframe tbody tr th:only-of-type {\n",
       "        vertical-align: middle;\n",
       "    }\n",
       "\n",
       "    .dataframe tbody tr th {\n",
       "        vertical-align: top;\n",
       "    }\n",
       "\n",
       "    .dataframe thead th {\n",
       "        text-align: right;\n",
       "    }\n",
       "</style>\n",
       "<table border=\"1\" class=\"dataframe\">\n",
       "  <thead>\n",
       "    <tr style=\"text-align: right;\">\n",
       "      <th></th>\n",
       "      <th>Store</th>\n",
       "      <th>Date</th>\n",
       "      <th>Weekly_Sales</th>\n",
       "      <th>Holiday_Flag</th>\n",
       "      <th>Temperature</th>\n",
       "      <th>Fuel_Price</th>\n",
       "      <th>CPI</th>\n",
       "      <th>Unemployment</th>\n",
       "    </tr>\n",
       "  </thead>\n",
       "  <tbody>\n",
       "    <tr>\n",
       "      <th>0</th>\n",
       "      <td>6</td>\n",
       "      <td>18-02-2011</td>\n",
       "      <td>1572117.54</td>\n",
       "      <td>NaN</td>\n",
       "      <td>59.61</td>\n",
       "      <td>3.045</td>\n",
       "      <td>214.777523</td>\n",
       "      <td>6.858</td>\n",
       "    </tr>\n",
       "  </tbody>\n",
       "</table>\n",
       "</div>"
      ],
      "text/plain": [
       "   Store        Date  Weekly_Sales  Holiday_Flag  Temperature  Fuel_Price  \\\n",
       "0      6  18-02-2011    1572117.54           NaN        59.61       3.045   \n",
       "\n",
       "          CPI  Unemployment  \n",
       "0  214.777523         6.858  "
      ]
     },
     "execution_count": 166,
     "metadata": {},
     "output_type": "execute_result"
    }
   ],
   "source": [
    "data['Store'] = data['Store'].astype(int)\n",
    "data.head(1)"
   ]
  },
  {
   "cell_type": "code",
   "execution_count": 167,
   "metadata": {},
   "outputs": [
    {
     "data": {
      "text/plain": [
       "12"
      ]
     },
     "execution_count": 167,
     "metadata": {},
     "output_type": "execute_result"
    }
   ],
   "source": [
    "data['Holiday_Flag'].isnull().sum()"
   ]
  },
  {
   "cell_type": "code",
   "execution_count": 168,
   "metadata": {},
   "outputs": [
    {
     "data": {
      "text/html": [
       "<div>\n",
       "<style scoped>\n",
       "    .dataframe tbody tr th:only-of-type {\n",
       "        vertical-align: middle;\n",
       "    }\n",
       "\n",
       "    .dataframe tbody tr th {\n",
       "        vertical-align: top;\n",
       "    }\n",
       "\n",
       "    .dataframe thead th {\n",
       "        text-align: right;\n",
       "    }\n",
       "</style>\n",
       "<table border=\"1\" class=\"dataframe\">\n",
       "  <thead>\n",
       "    <tr style=\"text-align: right;\">\n",
       "      <th></th>\n",
       "      <th>Store</th>\n",
       "      <th>Date</th>\n",
       "      <th>Weekly_Sales</th>\n",
       "      <th>Holiday_Flag</th>\n",
       "      <th>Temperature</th>\n",
       "      <th>Fuel_Price</th>\n",
       "      <th>CPI</th>\n",
       "      <th>Unemployment</th>\n",
       "    </tr>\n",
       "  </thead>\n",
       "  <tbody>\n",
       "    <tr>\n",
       "      <th>0</th>\n",
       "      <td>6</td>\n",
       "      <td>18-02-2011</td>\n",
       "      <td>1572117.54</td>\n",
       "      <td>NaN</td>\n",
       "      <td>59.61</td>\n",
       "      <td>3.045</td>\n",
       "      <td>214.777523</td>\n",
       "      <td>6.858</td>\n",
       "    </tr>\n",
       "    <tr>\n",
       "      <th>15</th>\n",
       "      <td>6</td>\n",
       "      <td>30-04-2010</td>\n",
       "      <td>1498080.16</td>\n",
       "      <td>NaN</td>\n",
       "      <td>68.91</td>\n",
       "      <td>2.780</td>\n",
       "      <td>211.894272</td>\n",
       "      <td>7.092</td>\n",
       "    </tr>\n",
       "    <tr>\n",
       "      <th>43</th>\n",
       "      <td>7</td>\n",
       "      <td>26-08-2011</td>\n",
       "      <td>629994.47</td>\n",
       "      <td>NaN</td>\n",
       "      <td>57.60</td>\n",
       "      <td>3.485</td>\n",
       "      <td>194.379637</td>\n",
       "      <td>8.622</td>\n",
       "    </tr>\n",
       "    <tr>\n",
       "      <th>48</th>\n",
       "      <td>1</td>\n",
       "      <td>05-08-2011</td>\n",
       "      <td>1624383.75</td>\n",
       "      <td>NaN</td>\n",
       "      <td>91.65</td>\n",
       "      <td>3.684</td>\n",
       "      <td>215.544618</td>\n",
       "      <td>7.962</td>\n",
       "    </tr>\n",
       "    <tr>\n",
       "      <th>53</th>\n",
       "      <td>14</td>\n",
       "      <td>25-03-2011</td>\n",
       "      <td>1879451.23</td>\n",
       "      <td>NaN</td>\n",
       "      <td>41.76</td>\n",
       "      <td>3.625</td>\n",
       "      <td>184.994368</td>\n",
       "      <td>8.549</td>\n",
       "    </tr>\n",
       "    <tr>\n",
       "      <th>65</th>\n",
       "      <td>10</td>\n",
       "      <td>NaN</td>\n",
       "      <td>1714309.90</td>\n",
       "      <td>NaN</td>\n",
       "      <td>43.43</td>\n",
       "      <td>3.287</td>\n",
       "      <td>127.191774</td>\n",
       "      <td>8.744</td>\n",
       "    </tr>\n",
       "    <tr>\n",
       "      <th>73</th>\n",
       "      <td>1</td>\n",
       "      <td>27-08-2010</td>\n",
       "      <td>1449142.92</td>\n",
       "      <td>NaN</td>\n",
       "      <td>85.22</td>\n",
       "      <td>2.619</td>\n",
       "      <td>211.567306</td>\n",
       "      <td>7.787</td>\n",
       "    </tr>\n",
       "    <tr>\n",
       "      <th>90</th>\n",
       "      <td>9</td>\n",
       "      <td>09-07-2010</td>\n",
       "      <td>485389.15</td>\n",
       "      <td>NaN</td>\n",
       "      <td>78.51</td>\n",
       "      <td>2.642</td>\n",
       "      <td>214.656430</td>\n",
       "      <td>6.442</td>\n",
       "    </tr>\n",
       "    <tr>\n",
       "      <th>109</th>\n",
       "      <td>1</td>\n",
       "      <td>09-12-2011</td>\n",
       "      <td>NaN</td>\n",
       "      <td>NaN</td>\n",
       "      <td>43.93</td>\n",
       "      <td>3.158</td>\n",
       "      <td>218.961846</td>\n",
       "      <td>7.866</td>\n",
       "    </tr>\n",
       "    <tr>\n",
       "      <th>118</th>\n",
       "      <td>9</td>\n",
       "      <td>18-06-2010</td>\n",
       "      <td>513073.87</td>\n",
       "      <td>NaN</td>\n",
       "      <td>82.99</td>\n",
       "      <td>2.637</td>\n",
       "      <td>215.016648</td>\n",
       "      <td>6.384</td>\n",
       "    </tr>\n",
       "    <tr>\n",
       "      <th>136</th>\n",
       "      <td>4</td>\n",
       "      <td>08-07-2011</td>\n",
       "      <td>2066541.86</td>\n",
       "      <td>NaN</td>\n",
       "      <td>84.59</td>\n",
       "      <td>3.469</td>\n",
       "      <td>129.112500</td>\n",
       "      <td>5.644</td>\n",
       "    </tr>\n",
       "    <tr>\n",
       "      <th>146</th>\n",
       "      <td>7</td>\n",
       "      <td>NaN</td>\n",
       "      <td>716388.81</td>\n",
       "      <td>NaN</td>\n",
       "      <td>20.74</td>\n",
       "      <td>2.778</td>\n",
       "      <td>NaN</td>\n",
       "      <td>NaN</td>\n",
       "    </tr>\n",
       "  </tbody>\n",
       "</table>\n",
       "</div>"
      ],
      "text/plain": [
       "     Store        Date  Weekly_Sales  Holiday_Flag  Temperature  Fuel_Price  \\\n",
       "0        6  18-02-2011    1572117.54           NaN        59.61       3.045   \n",
       "15       6  30-04-2010    1498080.16           NaN        68.91       2.780   \n",
       "43       7  26-08-2011     629994.47           NaN        57.60       3.485   \n",
       "48       1  05-08-2011    1624383.75           NaN        91.65       3.684   \n",
       "53      14  25-03-2011    1879451.23           NaN        41.76       3.625   \n",
       "65      10         NaN    1714309.90           NaN        43.43       3.287   \n",
       "73       1  27-08-2010    1449142.92           NaN        85.22       2.619   \n",
       "90       9  09-07-2010     485389.15           NaN        78.51       2.642   \n",
       "109      1  09-12-2011           NaN           NaN        43.93       3.158   \n",
       "118      9  18-06-2010     513073.87           NaN        82.99       2.637   \n",
       "136      4  08-07-2011    2066541.86           NaN        84.59       3.469   \n",
       "146      7         NaN     716388.81           NaN        20.74       2.778   \n",
       "\n",
       "            CPI  Unemployment  \n",
       "0    214.777523         6.858  \n",
       "15   211.894272         7.092  \n",
       "43   194.379637         8.622  \n",
       "48   215.544618         7.962  \n",
       "53   184.994368         8.549  \n",
       "65   127.191774         8.744  \n",
       "73   211.567306         7.787  \n",
       "90   214.656430         6.442  \n",
       "109  218.961846         7.866  \n",
       "118  215.016648         6.384  \n",
       "136  129.112500         5.644  \n",
       "146         NaN           NaN  "
      ]
     },
     "execution_count": 168,
     "metadata": {},
     "output_type": "execute_result"
    }
   ],
   "source": [
    "data[data['Holiday_Flag'].isnull()]"
   ]
  },
  {
   "cell_type": "markdown",
   "metadata": {},
   "source": [
    "# Re-assess Holiday_Flag column"
   ]
  },
  {
   "cell_type": "code",
   "execution_count": 169,
   "metadata": {},
   "outputs": [],
   "source": [
    "#Holidays = 27/08/2010 Lyndon Baines Jonhson Day in Texas will be transformed to 1 in Holiday_Flag\n",
    "#The rest of the dates are not holidays according to the national register so we'll transform them to 0"
   ]
  },
  {
   "cell_type": "code",
   "execution_count": 170,
   "metadata": {},
   "outputs": [],
   "source": [
    "data.loc[data.Date == \"27-08-2010\", \"Holiday_Flag\"] = 1.0"
   ]
  },
  {
   "cell_type": "code",
   "execution_count": 171,
   "metadata": {},
   "outputs": [
    {
     "data": {
      "text/plain": [
       "11"
      ]
     },
     "execution_count": 171,
     "metadata": {},
     "output_type": "execute_result"
    }
   ],
   "source": [
    "data['Holiday_Flag'].isnull().sum()"
   ]
  },
  {
   "cell_type": "code",
   "execution_count": 172,
   "metadata": {},
   "outputs": [],
   "source": [
    "data['Holiday_Flag'] = data['Holiday_Flag'].replace(np.nan, 1.0)"
   ]
  },
  {
   "cell_type": "code",
   "execution_count": 173,
   "metadata": {},
   "outputs": [
    {
     "data": {
      "text/plain": [
       "0"
      ]
     },
     "execution_count": 173,
     "metadata": {},
     "output_type": "execute_result"
    }
   ],
   "source": [
    "data['Holiday_Flag'].isnull().sum()"
   ]
  },
  {
   "cell_type": "code",
   "execution_count": 174,
   "metadata": {},
   "outputs": [
    {
     "name": "stdout",
     "output_type": "stream",
     "text": [
      "There is 126 normal days in the dataset\n",
      "There is 24 holidays in the dataset\n"
     ]
    }
   ],
   "source": [
    "days = data['Holiday_Flag'].value_counts()[0]\n",
    "holidays = data['Holiday_Flag'].value_counts()[1]\n",
    "\n",
    "print(f'There is {days} normal days in the dataset')\n",
    "print(f'There is {holidays} holidays in the dataset')"
   ]
  },
  {
   "cell_type": "code",
   "execution_count": 175,
   "metadata": {},
   "outputs": [],
   "source": [
    "data = data.dropna(subset=['Weekly_Sales'])"
   ]
  },
  {
   "cell_type": "code",
   "execution_count": 176,
   "metadata": {},
   "outputs": [],
   "source": [
    "#Drop the nan values in Temperature/Fuel Price/CPI/Unemployment"
   ]
  },
  {
   "cell_type": "code",
   "execution_count": 177,
   "metadata": {},
   "outputs": [],
   "source": [
    "data = data.dropna(subset=['Temperature','Fuel_Price','CPI','Unemployment'])"
   ]
  },
  {
   "cell_type": "code",
   "execution_count": 178,
   "metadata": {},
   "outputs": [
    {
     "data": {
      "text/html": [
       "<div>\n",
       "<style scoped>\n",
       "    .dataframe tbody tr th:only-of-type {\n",
       "        vertical-align: middle;\n",
       "    }\n",
       "\n",
       "    .dataframe tbody tr th {\n",
       "        vertical-align: top;\n",
       "    }\n",
       "\n",
       "    .dataframe thead th {\n",
       "        text-align: right;\n",
       "    }\n",
       "</style>\n",
       "<table border=\"1\" class=\"dataframe\">\n",
       "  <thead>\n",
       "    <tr style=\"text-align: right;\">\n",
       "      <th></th>\n",
       "      <th>Store</th>\n",
       "      <th>Weekly_Sales</th>\n",
       "      <th>Holiday_Flag</th>\n",
       "      <th>Temperature</th>\n",
       "      <th>Fuel_Price</th>\n",
       "      <th>CPI</th>\n",
       "      <th>Unemployment</th>\n",
       "    </tr>\n",
       "  </thead>\n",
       "  <tbody>\n",
       "    <tr>\n",
       "      <th>count</th>\n",
       "      <td>94.000000</td>\n",
       "      <td>9.400000e+01</td>\n",
       "      <td>94.000000</td>\n",
       "      <td>94.000000</td>\n",
       "      <td>94.000000</td>\n",
       "      <td>94.000000</td>\n",
       "      <td>94.000000</td>\n",
       "    </tr>\n",
       "    <tr>\n",
       "      <th>mean</th>\n",
       "      <td>9.989362</td>\n",
       "      <td>1.225783e+06</td>\n",
       "      <td>0.191489</td>\n",
       "      <td>61.609894</td>\n",
       "      <td>3.328021</td>\n",
       "      <td>177.324272</td>\n",
       "      <td>7.668170</td>\n",
       "    </tr>\n",
       "    <tr>\n",
       "      <th>std</th>\n",
       "      <td>6.084521</td>\n",
       "      <td>6.521680e+05</td>\n",
       "      <td>0.395583</td>\n",
       "      <td>17.819415</td>\n",
       "      <td>0.484910</td>\n",
       "      <td>40.093173</td>\n",
       "      <td>1.640716</td>\n",
       "    </tr>\n",
       "    <tr>\n",
       "      <th>min</th>\n",
       "      <td>1.000000</td>\n",
       "      <td>2.689290e+05</td>\n",
       "      <td>0.000000</td>\n",
       "      <td>18.790000</td>\n",
       "      <td>2.548000</td>\n",
       "      <td>126.114581</td>\n",
       "      <td>5.143000</td>\n",
       "    </tr>\n",
       "    <tr>\n",
       "      <th>25%</th>\n",
       "      <td>4.250000</td>\n",
       "      <td>5.652484e+05</td>\n",
       "      <td>0.000000</td>\n",
       "      <td>46.137500</td>\n",
       "      <td>2.826000</td>\n",
       "      <td>131.611710</td>\n",
       "      <td>6.664000</td>\n",
       "    </tr>\n",
       "    <tr>\n",
       "      <th>50%</th>\n",
       "      <td>9.500000</td>\n",
       "      <td>1.230197e+06</td>\n",
       "      <td>0.000000</td>\n",
       "      <td>62.020000</td>\n",
       "      <td>3.468000</td>\n",
       "      <td>193.605477</td>\n",
       "      <td>7.514500</td>\n",
       "    </tr>\n",
       "    <tr>\n",
       "      <th>75%</th>\n",
       "      <td>15.000000</td>\n",
       "      <td>1.804434e+06</td>\n",
       "      <td>0.000000</td>\n",
       "      <td>76.302500</td>\n",
       "      <td>3.737750</td>\n",
       "      <td>214.783750</td>\n",
       "      <td>8.150000</td>\n",
       "    </tr>\n",
       "    <tr>\n",
       "      <th>max</th>\n",
       "      <td>20.000000</td>\n",
       "      <td>2.771397e+06</td>\n",
       "      <td>1.000000</td>\n",
       "      <td>91.650000</td>\n",
       "      <td>4.193000</td>\n",
       "      <td>226.968844</td>\n",
       "      <td>14.313000</td>\n",
       "    </tr>\n",
       "  </tbody>\n",
       "</table>\n",
       "</div>"
      ],
      "text/plain": [
       "           Store  Weekly_Sales  Holiday_Flag  Temperature  Fuel_Price  \\\n",
       "count  94.000000  9.400000e+01     94.000000    94.000000   94.000000   \n",
       "mean    9.989362  1.225783e+06      0.191489    61.609894    3.328021   \n",
       "std     6.084521  6.521680e+05      0.395583    17.819415    0.484910   \n",
       "min     1.000000  2.689290e+05      0.000000    18.790000    2.548000   \n",
       "25%     4.250000  5.652484e+05      0.000000    46.137500    2.826000   \n",
       "50%     9.500000  1.230197e+06      0.000000    62.020000    3.468000   \n",
       "75%    15.000000  1.804434e+06      0.000000    76.302500    3.737750   \n",
       "max    20.000000  2.771397e+06      1.000000    91.650000    4.193000   \n",
       "\n",
       "              CPI  Unemployment  \n",
       "count   94.000000     94.000000  \n",
       "mean   177.324272      7.668170  \n",
       "std     40.093173      1.640716  \n",
       "min    126.114581      5.143000  \n",
       "25%    131.611710      6.664000  \n",
       "50%    193.605477      7.514500  \n",
       "75%    214.783750      8.150000  \n",
       "max    226.968844     14.313000  "
      ]
     },
     "execution_count": 178,
     "metadata": {},
     "output_type": "execute_result"
    }
   ],
   "source": [
    "data.describe()"
   ]
  },
  {
   "cell_type": "markdown",
   "metadata": {},
   "source": [
    "# Computing confidence interval taking 99,73% "
   ]
  },
  {
   "cell_type": "code",
   "execution_count": 179,
   "metadata": {},
   "outputs": [
    {
     "name": "stdout",
     "output_type": "stream",
     "text": [
      "Any values outside of this interval within Temperature will be removed [8.151648380500326, 115.06813885354222]\n",
      "Any values outside of this interval within Fuel price will be removed [1.873290574631704, 4.782751978559783]\n",
      "Any values outside of this interval within CPI will be removed [57.04475382766958, 297.60378955956435]\n",
      "Any values outside of this interval within Unemployment will be removed [2.7460221836717746, 12.590318241860135]\n"
     ]
    }
   ],
   "source": [
    "y23 = [data.Temperature.mean()-3*data.Temperature.std(),data.Temperature.mean()+3*data.Temperature.std()]\n",
    "y24 = [data.Fuel_Price.mean()-3*data.Fuel_Price.std(),data.Fuel_Price.mean()+3*data.Fuel_Price.std()]\n",
    "y25 = [data.CPI.mean()-3*data.CPI.std(),data.CPI.mean()+3*data.CPI.std()]\n",
    "y26 = [data.Unemployment.mean()-3*data.Unemployment.std(),data.Unemployment.mean()+3*data.Unemployment.std()]\n",
    "print(f'Any values outside of this interval within Temperature will be removed {y23}')\n",
    "print(f'Any values outside of this interval within Fuel price will be removed {y24}')\n",
    "print(f'Any values outside of this interval within CPI will be removed {y25}')\n",
    "print(f'Any values outside of this interval within Unemployment will be removed {y26}')"
   ]
  },
  {
   "cell_type": "code",
   "execution_count": 180,
   "metadata": {},
   "outputs": [],
   "source": [
    "#Therefore we have to focus on the outliers in unemployment "
   ]
  },
  {
   "cell_type": "code",
   "execution_count": 181,
   "metadata": {},
   "outputs": [],
   "source": [
    "data.drop(data[data.Unemployment > y26[1]].index, inplace=True)"
   ]
  },
  {
   "cell_type": "code",
   "execution_count": 182,
   "metadata": {},
   "outputs": [
    {
     "data": {
      "text/html": [
       "<div>\n",
       "<style scoped>\n",
       "    .dataframe tbody tr th:only-of-type {\n",
       "        vertical-align: middle;\n",
       "    }\n",
       "\n",
       "    .dataframe tbody tr th {\n",
       "        vertical-align: top;\n",
       "    }\n",
       "\n",
       "    .dataframe thead th {\n",
       "        text-align: right;\n",
       "    }\n",
       "</style>\n",
       "<table border=\"1\" class=\"dataframe\">\n",
       "  <thead>\n",
       "    <tr style=\"text-align: right;\">\n",
       "      <th></th>\n",
       "      <th>Store</th>\n",
       "      <th>Weekly_Sales</th>\n",
       "      <th>Holiday_Flag</th>\n",
       "      <th>Temperature</th>\n",
       "      <th>Fuel_Price</th>\n",
       "      <th>CPI</th>\n",
       "      <th>Unemployment</th>\n",
       "    </tr>\n",
       "  </thead>\n",
       "  <tbody>\n",
       "    <tr>\n",
       "      <th>count</th>\n",
       "      <td>90.000000</td>\n",
       "      <td>9.000000e+01</td>\n",
       "      <td>90.000000</td>\n",
       "      <td>90.00000</td>\n",
       "      <td>90.000000</td>\n",
       "      <td>90.000000</td>\n",
       "      <td>90.000000</td>\n",
       "    </tr>\n",
       "    <tr>\n",
       "      <th>mean</th>\n",
       "      <td>9.900000</td>\n",
       "      <td>1.233865e+06</td>\n",
       "      <td>0.188889</td>\n",
       "      <td>61.06100</td>\n",
       "      <td>3.318444</td>\n",
       "      <td>179.524905</td>\n",
       "      <td>7.389733</td>\n",
       "    </tr>\n",
       "    <tr>\n",
       "      <th>std</th>\n",
       "      <td>6.204475</td>\n",
       "      <td>6.647250e+05</td>\n",
       "      <td>0.393613</td>\n",
       "      <td>17.74604</td>\n",
       "      <td>0.484399</td>\n",
       "      <td>39.554303</td>\n",
       "      <td>0.982729</td>\n",
       "    </tr>\n",
       "    <tr>\n",
       "      <th>min</th>\n",
       "      <td>1.000000</td>\n",
       "      <td>2.689290e+05</td>\n",
       "      <td>0.000000</td>\n",
       "      <td>18.79000</td>\n",
       "      <td>2.548000</td>\n",
       "      <td>126.128355</td>\n",
       "      <td>5.143000</td>\n",
       "    </tr>\n",
       "    <tr>\n",
       "      <th>25%</th>\n",
       "      <td>4.000000</td>\n",
       "      <td>5.617240e+05</td>\n",
       "      <td>0.000000</td>\n",
       "      <td>45.34250</td>\n",
       "      <td>2.814750</td>\n",
       "      <td>132.602339</td>\n",
       "      <td>6.642250</td>\n",
       "    </tr>\n",
       "    <tr>\n",
       "      <th>50%</th>\n",
       "      <td>9.000000</td>\n",
       "      <td>1.260826e+06</td>\n",
       "      <td>0.000000</td>\n",
       "      <td>61.45000</td>\n",
       "      <td>3.468000</td>\n",
       "      <td>197.166416</td>\n",
       "      <td>7.419000</td>\n",
       "    </tr>\n",
       "    <tr>\n",
       "      <th>75%</th>\n",
       "      <td>15.750000</td>\n",
       "      <td>1.807159e+06</td>\n",
       "      <td>0.000000</td>\n",
       "      <td>75.79250</td>\n",
       "      <td>3.737750</td>\n",
       "      <td>214.855374</td>\n",
       "      <td>8.099000</td>\n",
       "    </tr>\n",
       "    <tr>\n",
       "      <th>max</th>\n",
       "      <td>20.000000</td>\n",
       "      <td>2.771397e+06</td>\n",
       "      <td>1.000000</td>\n",
       "      <td>91.65000</td>\n",
       "      <td>4.170000</td>\n",
       "      <td>226.968844</td>\n",
       "      <td>9.342000</td>\n",
       "    </tr>\n",
       "  </tbody>\n",
       "</table>\n",
       "</div>"
      ],
      "text/plain": [
       "           Store  Weekly_Sales  Holiday_Flag  Temperature  Fuel_Price  \\\n",
       "count  90.000000  9.000000e+01     90.000000     90.00000   90.000000   \n",
       "mean    9.900000  1.233865e+06      0.188889     61.06100    3.318444   \n",
       "std     6.204475  6.647250e+05      0.393613     17.74604    0.484399   \n",
       "min     1.000000  2.689290e+05      0.000000     18.79000    2.548000   \n",
       "25%     4.000000  5.617240e+05      0.000000     45.34250    2.814750   \n",
       "50%     9.000000  1.260826e+06      0.000000     61.45000    3.468000   \n",
       "75%    15.750000  1.807159e+06      0.000000     75.79250    3.737750   \n",
       "max    20.000000  2.771397e+06      1.000000     91.65000    4.170000   \n",
       "\n",
       "              CPI  Unemployment  \n",
       "count   90.000000     90.000000  \n",
       "mean   179.524905      7.389733  \n",
       "std     39.554303      0.982729  \n",
       "min    126.128355      5.143000  \n",
       "25%    132.602339      6.642250  \n",
       "50%    197.166416      7.419000  \n",
       "75%    214.855374      8.099000  \n",
       "max    226.968844      9.342000  "
      ]
     },
     "execution_count": 182,
     "metadata": {},
     "output_type": "execute_result"
    }
   ],
   "source": [
    "data.describe()"
   ]
  },
  {
   "cell_type": "code",
   "execution_count": 183,
   "metadata": {},
   "outputs": [
    {
     "name": "stdout",
     "output_type": "stream",
     "text": [
      "After cleaning, there is only 90 rows left, we dropped 40.0%\n"
     ]
    }
   ],
   "source": [
    "print(f'After cleaning, there is only {data.shape[0]} rows left, we dropped {(100-((data.shape[0])/150)*100)}%')"
   ]
  },
  {
   "cell_type": "code",
   "execution_count": 184,
   "metadata": {},
   "outputs": [
    {
     "data": {
      "text/html": [
       "<div>\n",
       "<style scoped>\n",
       "    .dataframe tbody tr th:only-of-type {\n",
       "        vertical-align: middle;\n",
       "    }\n",
       "\n",
       "    .dataframe tbody tr th {\n",
       "        vertical-align: top;\n",
       "    }\n",
       "\n",
       "    .dataframe thead th {\n",
       "        text-align: right;\n",
       "    }\n",
       "</style>\n",
       "<table border=\"1\" class=\"dataframe\">\n",
       "  <thead>\n",
       "    <tr style=\"text-align: right;\">\n",
       "      <th></th>\n",
       "      <th>Store</th>\n",
       "      <th>Date</th>\n",
       "      <th>Weekly_Sales</th>\n",
       "      <th>Holiday_Flag</th>\n",
       "      <th>Temperature</th>\n",
       "      <th>Fuel_Price</th>\n",
       "      <th>CPI</th>\n",
       "      <th>Unemployment</th>\n",
       "    </tr>\n",
       "  </thead>\n",
       "  <tbody>\n",
       "    <tr>\n",
       "      <th>0</th>\n",
       "      <td>6</td>\n",
       "      <td>18-02-2011</td>\n",
       "      <td>1572117.54</td>\n",
       "      <td>1.0</td>\n",
       "      <td>59.61</td>\n",
       "      <td>3.045</td>\n",
       "      <td>214.777523</td>\n",
       "      <td>6.858</td>\n",
       "    </tr>\n",
       "    <tr>\n",
       "      <th>1</th>\n",
       "      <td>13</td>\n",
       "      <td>25-03-2011</td>\n",
       "      <td>1807545.43</td>\n",
       "      <td>0.0</td>\n",
       "      <td>42.38</td>\n",
       "      <td>3.435</td>\n",
       "      <td>128.616064</td>\n",
       "      <td>7.470</td>\n",
       "    </tr>\n",
       "    <tr>\n",
       "      <th>4</th>\n",
       "      <td>6</td>\n",
       "      <td>28-05-2010</td>\n",
       "      <td>1644470.66</td>\n",
       "      <td>0.0</td>\n",
       "      <td>78.89</td>\n",
       "      <td>2.759</td>\n",
       "      <td>212.412888</td>\n",
       "      <td>7.092</td>\n",
       "    </tr>\n",
       "    <tr>\n",
       "      <th>6</th>\n",
       "      <td>15</td>\n",
       "      <td>03-06-2011</td>\n",
       "      <td>695396.19</td>\n",
       "      <td>0.0</td>\n",
       "      <td>69.80</td>\n",
       "      <td>4.069</td>\n",
       "      <td>134.855161</td>\n",
       "      <td>7.658</td>\n",
       "    </tr>\n",
       "    <tr>\n",
       "      <th>7</th>\n",
       "      <td>20</td>\n",
       "      <td>03-02-2012</td>\n",
       "      <td>2203523.20</td>\n",
       "      <td>0.0</td>\n",
       "      <td>39.93</td>\n",
       "      <td>3.617</td>\n",
       "      <td>213.023622</td>\n",
       "      <td>6.961</td>\n",
       "    </tr>\n",
       "  </tbody>\n",
       "</table>\n",
       "</div>"
      ],
      "text/plain": [
       "   Store        Date  Weekly_Sales  Holiday_Flag  Temperature  Fuel_Price  \\\n",
       "0      6  18-02-2011    1572117.54           1.0        59.61       3.045   \n",
       "1     13  25-03-2011    1807545.43           0.0        42.38       3.435   \n",
       "4      6  28-05-2010    1644470.66           0.0        78.89       2.759   \n",
       "6     15  03-06-2011     695396.19           0.0        69.80       4.069   \n",
       "7     20  03-02-2012    2203523.20           0.0        39.93       3.617   \n",
       "\n",
       "          CPI  Unemployment  \n",
       "0  214.777523         6.858  \n",
       "1  128.616064         7.470  \n",
       "4  212.412888         7.092  \n",
       "6  134.855161         7.658  \n",
       "7  213.023622         6.961  "
      ]
     },
     "execution_count": 184,
     "metadata": {},
     "output_type": "execute_result"
    }
   ],
   "source": [
    "data.head()"
   ]
  },
  {
   "cell_type": "markdown",
   "metadata": {},
   "source": [
    "## EDA"
   ]
  },
  {
   "cell_type": "code",
   "execution_count": 214,
   "metadata": {},
   "outputs": [
    {
     "name": "stdout",
     "output_type": "stream",
     "text": [
      "The shop n°13 sold the most over one week\n"
     ]
    }
   ],
   "source": [
    "store_sales = data.groupby('Store')['Weekly_Sales'].sum()\n",
    "first_shop = store_sales.sort_values(ascending = False).index[0]\n",
    "print(f'The shop n°{first_shop} sold the most over one week')"
   ]
  },
  {
   "cell_type": "code",
   "execution_count": 233,
   "metadata": {},
   "outputs": [
    {
     "data": {
      "image/png": "[encoded data removed]",
      "text/plain": [
       "<Figure size 720x360 with 1 Axes>"
      ]
     },
     "metadata": {
      "needs_background": "light"
     },
     "output_type": "display_data"
    }
   ],
   "source": [
    "plt.figure(figsize = (10, 5))\n",
    "g = sns.barplot(data = data, x = 'Store', y = 'Weekly_Sales', color = 'RED')\n",
    "g.set_title(\"Weekly sales per store\")\n",
    "plt.show()"
   ]
  },
  {
   "cell_type": "code",
   "execution_count": null,
   "metadata": {},
   "outputs": [],
   "source": [
    "#Even though the store #13 holds the record in the biggest weekly sale, \n",
    "#it isn't the best performance overall, #4 seems to be performing better (We have to take into account its 10^6)"
   ]
  },
  {
   "cell_type": "code",
   "execution_count": 215,
   "metadata": {
    "scrolled": true
   },
   "outputs": [
    {
     "data": {
      "text/html": [
       "<div>\n",
       "<style scoped>\n",
       "    .dataframe tbody tr th:only-of-type {\n",
       "        vertical-align: middle;\n",
       "    }\n",
       "\n",
       "    .dataframe tbody tr th {\n",
       "        vertical-align: top;\n",
       "    }\n",
       "\n",
       "    .dataframe thead th {\n",
       "        text-align: right;\n",
       "    }\n",
       "</style>\n",
       "<table border=\"1\" class=\"dataframe\">\n",
       "  <thead>\n",
       "    <tr style=\"text-align: right;\">\n",
       "      <th></th>\n",
       "      <th>Store</th>\n",
       "      <th>Weekly_Sales</th>\n",
       "      <th>Holiday_Flag</th>\n",
       "      <th>Temperature</th>\n",
       "      <th>Fuel_Price</th>\n",
       "      <th>CPI</th>\n",
       "      <th>Unemployment</th>\n",
       "    </tr>\n",
       "  </thead>\n",
       "  <tbody>\n",
       "    <tr>\n",
       "      <th>Store</th>\n",
       "      <td>1.000000</td>\n",
       "      <td>0.140426</td>\n",
       "      <td>-0.180812</td>\n",
       "      <td>-0.322778</td>\n",
       "      <td>0.195787</td>\n",
       "      <td>-0.568758</td>\n",
       "      <td>0.285240</td>\n",
       "    </tr>\n",
       "    <tr>\n",
       "      <th>Weekly_Sales</th>\n",
       "      <td>0.140426</td>\n",
       "      <td>1.000000</td>\n",
       "      <td>0.030090</td>\n",
       "      <td>-0.091299</td>\n",
       "      <td>-0.018320</td>\n",
       "      <td>-0.373895</td>\n",
       "      <td>0.094047</td>\n",
       "    </tr>\n",
       "    <tr>\n",
       "      <th>Holiday_Flag</th>\n",
       "      <td>-0.180812</td>\n",
       "      <td>0.030090</td>\n",
       "      <td>1.000000</td>\n",
       "      <td>-0.034772</td>\n",
       "      <td>-0.283605</td>\n",
       "      <td>0.232909</td>\n",
       "      <td>0.010298</td>\n",
       "    </tr>\n",
       "    <tr>\n",
       "      <th>Temperature</th>\n",
       "      <td>-0.322778</td>\n",
       "      <td>-0.091299</td>\n",
       "      <td>-0.034772</td>\n",
       "      <td>1.000000</td>\n",
       "      <td>-0.035225</td>\n",
       "      <td>0.155212</td>\n",
       "      <td>-0.201256</td>\n",
       "    </tr>\n",
       "    <tr>\n",
       "      <th>Fuel_Price</th>\n",
       "      <td>0.195787</td>\n",
       "      <td>-0.018320</td>\n",
       "      <td>-0.283605</td>\n",
       "      <td>-0.035225</td>\n",
       "      <td>1.000000</td>\n",
       "      <td>-0.206546</td>\n",
       "      <td>-0.026149</td>\n",
       "    </tr>\n",
       "    <tr>\n",
       "      <th>CPI</th>\n",
       "      <td>-0.568758</td>\n",
       "      <td>-0.373895</td>\n",
       "      <td>0.232909</td>\n",
       "      <td>0.155212</td>\n",
       "      <td>-0.206546</td>\n",
       "      <td>1.000000</td>\n",
       "      <td>-0.205179</td>\n",
       "    </tr>\n",
       "    <tr>\n",
       "      <th>Unemployment</th>\n",
       "      <td>0.285240</td>\n",
       "      <td>0.094047</td>\n",
       "      <td>0.010298</td>\n",
       "      <td>-0.201256</td>\n",
       "      <td>-0.026149</td>\n",
       "      <td>-0.205179</td>\n",
       "      <td>1.000000</td>\n",
       "    </tr>\n",
       "  </tbody>\n",
       "</table>\n",
       "</div>"
      ],
      "text/plain": [
       "                 Store  Weekly_Sales  Holiday_Flag  Temperature  Fuel_Price  \\\n",
       "Store         1.000000      0.140426     -0.180812    -0.322778    0.195787   \n",
       "Weekly_Sales  0.140426      1.000000      0.030090    -0.091299   -0.018320   \n",
       "Holiday_Flag -0.180812      0.030090      1.000000    -0.034772   -0.283605   \n",
       "Temperature  -0.322778     -0.091299     -0.034772     1.000000   -0.035225   \n",
       "Fuel_Price    0.195787     -0.018320     -0.283605    -0.035225    1.000000   \n",
       "CPI          -0.568758     -0.373895      0.232909     0.155212   -0.206546   \n",
       "Unemployment  0.285240      0.094047      0.010298    -0.201256   -0.026149   \n",
       "\n",
       "                   CPI  Unemployment  \n",
       "Store        -0.568758      0.285240  \n",
       "Weekly_Sales -0.373895      0.094047  \n",
       "Holiday_Flag  0.232909      0.010298  \n",
       "Temperature   0.155212     -0.201256  \n",
       "Fuel_Price   -0.206546     -0.026149  \n",
       "CPI           1.000000     -0.205179  \n",
       "Unemployment -0.205179      1.000000  "
      ]
     },
     "execution_count": 215,
     "metadata": {},
     "output_type": "execute_result"
    }
   ],
   "source": [
    "data.corr()"
   ]
  },
  {
   "cell_type": "code",
   "execution_count": 219,
   "metadata": {},
   "outputs": [
    {
     "data": {
      "image/png": "[encoded data removed]",
      "text/plain": [
       "<Figure size 1152x720 with 2 Axes>"
      ]
     },
     "metadata": {
      "needs_background": "light"
     },
     "output_type": "display_data"
    }
   ],
   "source": [
    "plt.figure(figsize = (16,10))\n",
    "sns.heatmap(data.corr(), cmap = 'Reds', annot = True)\n",
    "plt.show()"
   ]
  },
  {
   "cell_type": "markdown",
   "metadata": {},
   "source": [
    "As we're speaking of sales, we can take into account two factors, the first would be the week aka date, when there are sales. The second factor could be the quarters as any financial firm would assess their performance.\n",
    "\n",
    "However, we dropped the date column, it could be a way of fine tuning our model, this could be explored in the future\n"
   ]
  },
  {
   "cell_type": "code",
   "execution_count": 220,
   "metadata": {},
   "outputs": [],
   "source": [
    "data = data[['Store','Weekly_Sales','Holiday_Flag','Temperature','Fuel_Price','CPI','Unemployment']]"
   ]
  },
  {
   "cell_type": "code",
   "execution_count": 222,
   "metadata": {},
   "outputs": [],
   "source": [
    "#data.to_csv('./data/walmart_store_cleaned.csv', index = False)"
   ]
  }
 ],
 "metadata": {
  "interpreter": {
   "hash": "b0fa6594d8f4cbf19f97940f81e996739fb7646882a419484c72d19e05852a7e"
  },
  "kernelspec": {
   "display_name": "Python 3 (ipykernel)",
   "language": "python",
   "name": "python3"
  },
  "language_info": {
   "codemirror_mode": {
    "name": "ipython",
    "version": 3
   },
   "file_extension": ".py",
   "mimetype": "text/x-python",
   "name": "python",
   "nbconvert_exporter": "python",
   "pygments_lexer": "ipython3",
   "version": "3.8.8"
  }
 },
 "nbformat": 4,
 "nbformat_minor": 2
}
